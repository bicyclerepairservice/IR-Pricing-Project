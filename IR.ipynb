{
 "cells": [
  {
   "cell_type": "markdown",
   "id": "bbcc2f72",
   "metadata": {},
   "source": [
    "# Stage 1. IR description - Turkey 3-month Bond Yield"
   ]
  },
  {
   "cell_type": "markdown",
   "id": "dd63a1ae",
   "metadata": {},
   "source": [
    "**Made by** Vadim Smirnov and Vladislav Gusev"
   ]
  },
  {
   "cell_type": "markdown",
   "id": "27480ce4",
   "metadata": {},
   "source": [
    "------------------------------"
   ]
  },
  {
   "cell_type": "markdown",
   "id": "155ed76a",
   "metadata": {},
   "source": [
    "## Introduction:"
   ]
  },
  {
   "cell_type": "markdown",
   "id": "ef22bb76",
   "metadata": {},
   "source": [
    "Due to the unacessablility of the key interest rates in Turkey it was decided to replicate this indicator with the market rate. 10-year bonds in many countries could be considered representative on the current state of the economy, as well as forward-looking. Usually the 1-year yield is considered, but the 2-year is still pretty accurate in terms of the estimation of the short-term yield.\n",
    "\n",
    "Due to the extreme inversion of the yield curve currently (10year - 2year spread is -1655 bp) and it is humped-shaped as the yields between 3 and 9 months are relatively lower to the 2-year yield. "
   ]
  },
  {
   "cell_type": "markdown",
   "id": "07f5cd68",
   "metadata": {},
   "source": [
    "**Quoting and conventions:**\n",
    "\n",
    "Day count basis: ACT/360 or 30E/360\n",
    "\n",
    "Settlement, primary and secondary market (for International bonds as a benchmark): T+2\n",
    "\n",
    "Coupon rate: 12.6%, semi-annual"
   ]
  },
  {
   "cell_type": "markdown",
   "id": "d0a20f86",
   "metadata": {},
   "source": [
    "**Those conventions are common for the majority of the European countries with the exception that usually bonds have annual coupons**"
   ]
  },
  {
   "cell_type": "markdown",
   "id": "29a7a3eb",
   "metadata": {},
   "source": [
    "## Primary Analysis:"
   ]
  },
  {
   "cell_type": "code",
   "execution_count": 1,
   "id": "b9a49a1a",
   "metadata": {},
   "outputs": [],
   "source": [
    "#!pip install tslearn\n",
    "#!pip install threadpoolctl --upgrade\n",
    "#!pip install numpy --upgrade\n",
    "#!pip install --upgrade scikit-learn"
   ]
  },
  {
   "cell_type": "code",
   "execution_count": 2,
   "id": "b6d17ead",
   "metadata": {},
   "outputs": [
    {
     "name": "stderr",
     "output_type": "stream",
     "text": [
      "C:\\Users\\dguse\\anaconda3\\lib\\site-packages\\numpy\\_distributor_init.py:30: UserWarning: loaded more than 1 DLL from .libs:\n",
      "C:\\Users\\dguse\\anaconda3\\lib\\site-packages\\numpy\\.libs\\libopenblas.FB5AE2TYXYH2IJRDKGDGQ3XBKLKTF43H.gfortran-win_amd64.dll\n",
      "C:\\Users\\dguse\\anaconda3\\lib\\site-packages\\numpy\\.libs\\libopenblas.GK7GX5KEQ4F6UYO3P26ULGBQYHGQO7J4.gfortran-win_amd64.dll\n",
      "  warnings.warn(\"loaded more than 1 DLL from .libs:\"\n"
     ]
    }
   ],
   "source": [
    "import pandas as pd\n",
    "import numpy as np\n",
    "import matplotlib.pyplot as plt\n",
    "from sklearn.cluster import KMeans\n",
    "import seaborn as sns\n",
    "from sklearn.metrics import silhouette_score\n",
    "import random\n",
    "\n",
    "from statsmodels.graphics.tsaplots import plot_acf\n",
    "from statsmodels.tsa.ar_model import AutoReg\n",
    "from statsmodels.graphics.tsaplots import plot_acf\n",
    "from statsmodels.tsa.api import AutoReg\n",
    "from sklearn.metrics import mean_absolute_error, mean_squared_error"
   ]
  },
  {
   "cell_type": "code",
   "execution_count": 3,
   "id": "809cde4a",
   "metadata": {},
   "outputs": [
    {
     "data": {
      "text/html": [
       "<div>\n",
       "<style scoped>\n",
       "    .dataframe tbody tr th:only-of-type {\n",
       "        vertical-align: middle;\n",
       "    }\n",
       "\n",
       "    .dataframe tbody tr th {\n",
       "        vertical-align: top;\n",
       "    }\n",
       "\n",
       "    .dataframe thead th {\n",
       "        text-align: right;\n",
       "    }\n",
       "</style>\n",
       "<table border=\"1\" class=\"dataframe\">\n",
       "  <thead>\n",
       "    <tr style=\"text-align: right;\">\n",
       "      <th></th>\n",
       "      <th>Date</th>\n",
       "      <th>Price</th>\n",
       "      <th>Open</th>\n",
       "      <th>High</th>\n",
       "      <th>Low</th>\n",
       "      <th>Change %</th>\n",
       "    </tr>\n",
       "    <tr>\n",
       "      <th>Date</th>\n",
       "      <th></th>\n",
       "      <th></th>\n",
       "      <th></th>\n",
       "      <th></th>\n",
       "      <th></th>\n",
       "      <th></th>\n",
       "    </tr>\n",
       "  </thead>\n",
       "  <tbody>\n",
       "    <tr>\n",
       "      <th>2000-01-05</th>\n",
       "      <td>2000-01-05</td>\n",
       "      <td>0.4071</td>\n",
       "      <td>40.71</td>\n",
       "      <td>40.71</td>\n",
       "      <td>40.71</td>\n",
       "      <td>-21.92%</td>\n",
       "    </tr>\n",
       "    <tr>\n",
       "      <th>2000-01-19</th>\n",
       "      <td>2000-01-19</td>\n",
       "      <td>0.3301</td>\n",
       "      <td>33.01</td>\n",
       "      <td>33.01</td>\n",
       "      <td>33.01</td>\n",
       "      <td>-18.91%</td>\n",
       "    </tr>\n",
       "    <tr>\n",
       "      <th>2000-01-20</th>\n",
       "      <td>2000-01-20</td>\n",
       "      <td>0.3365</td>\n",
       "      <td>33.65</td>\n",
       "      <td>33.65</td>\n",
       "      <td>33.65</td>\n",
       "      <td>1.94%</td>\n",
       "    </tr>\n",
       "    <tr>\n",
       "      <th>2000-01-21</th>\n",
       "      <td>2000-01-21</td>\n",
       "      <td>0.3358</td>\n",
       "      <td>33.58</td>\n",
       "      <td>33.58</td>\n",
       "      <td>33.58</td>\n",
       "      <td>-0.21%</td>\n",
       "    </tr>\n",
       "    <tr>\n",
       "      <th>2000-01-24</th>\n",
       "      <td>2000-01-24</td>\n",
       "      <td>0.3367</td>\n",
       "      <td>33.67</td>\n",
       "      <td>33.67</td>\n",
       "      <td>33.67</td>\n",
       "      <td>0.27%</td>\n",
       "    </tr>\n",
       "  </tbody>\n",
       "</table>\n",
       "</div>"
      ],
      "text/plain": [
       "                 Date   Price   Open   High    Low Change %\n",
       "Date                                                       \n",
       "2000-01-05 2000-01-05  0.4071  40.71  40.71  40.71  -21.92%\n",
       "2000-01-19 2000-01-19  0.3301  33.01  33.01  33.01  -18.91%\n",
       "2000-01-20 2000-01-20  0.3365  33.65  33.65  33.65    1.94%\n",
       "2000-01-21 2000-01-21  0.3358  33.58  33.58  33.58   -0.21%\n",
       "2000-01-24 2000-01-24  0.3367  33.67  33.67  33.67    0.27%"
      ]
     },
     "execution_count": 3,
     "metadata": {},
     "output_type": "execute_result"
    }
   ],
   "source": [
    "random.seed(1337)\n",
    "\n",
    "df = pd.read_csv(\"turk3myield.csv\")\n",
    "df[\"Date\"] =pd.to_datetime(df[\"Date\"])\n",
    "df[\"Price\"] = df[\"Price\"] * 0.01\n",
    "df = df.sort_values(by='Date')\n",
    "df.index = df[\"Date\"]\n",
    "X = df['Price'].values.reshape(-1,1)\n",
    "df.head()"
   ]
  },
  {
   "cell_type": "code",
   "execution_count": 4,
   "id": "9ea9a34f",
   "metadata": {},
   "outputs": [
    {
     "data": {
      "image/png": "[encoded data removed]",
      "text/plain": [
       "<Figure size 640x480 with 1 Axes>"
      ]
     },
     "metadata": {},
     "output_type": "display_data"
    }
   ],
   "source": [
    "min_clusters = 2\n",
    "max_clusters = 10\n",
    "cluster_range = range(min_clusters, max_clusters + 1)\n",
    "\n",
    "# Calculate silhouette scores for different numbers of clusters\n",
    "silhouette_scores = []\n",
    "for n_clusters in cluster_range:\n",
    "    # Fit K-means clustering\n",
    "    kmeans = KMeans(n_clusters=n_clusters, random_state=42)\n",
    "    cluster_labels = kmeans.fit_predict(X)\n",
    "    \n",
    "    # Calculate silhouette score\n",
    "    silhouette_avg = silhouette_score(X, cluster_labels)\n",
    "    silhouette_scores.append(silhouette_avg)\n",
    "\n",
    "# Plot silhouette scores vs. number of clusters\n",
    "import matplotlib.pyplot as plt\n",
    "\n",
    "plt.plot(cluster_range, silhouette_scores, marker='o')\n",
    "plt.title('Silhouette Score vs. Number of Clusters')\n",
    "plt.xlabel('Number of Clusters')\n",
    "plt.ylabel('Silhouette Score')\n",
    "plt.xticks(cluster_range)\n",
    "plt.grid(True)\n",
    "plt.show()"
   ]
  },
  {
   "cell_type": "markdown",
   "id": "e8bae1e8",
   "metadata": {},
   "source": [
    "**Choosing 3 clusters with the best score**"
   ]
  },
  {
   "cell_type": "code",
   "execution_count": 5,
   "id": "a9cecd98",
   "metadata": {},
   "outputs": [
    {
     "name": "stdout",
     "output_type": "stream",
     "text": [
      "Cluster Centers:\n",
      "[[0.17828957]\n",
      " [0.09231082]\n",
      " [0.37023801]]\n",
      "Cluster Labels:\n",
      "[2 2 2 ... 2 2 2]\n"
     ]
    }
   ],
   "source": [
    "# Clustering (using K-means)\n",
    "n_clusters = 3  # Number of clusters\n",
    "kmeans = KMeans(n_clusters=n_clusters)\n",
    "cluster_labels = kmeans.fit_predict(X.reshape(-1,1))\n",
    "\n",
    "# Print cluster centers and labels\n",
    "print(\"Cluster Centers:\")\n",
    "print(kmeans.cluster_centers_)\n",
    "print(\"Cluster Labels:\")\n",
    "print(cluster_labels)"
   ]
  },
  {
   "cell_type": "code",
   "execution_count": 6,
   "id": "37b766ef",
   "metadata": {},
   "outputs": [
    {
     "data": {
      "image/png": "[encoded data removed]",
      "text/plain": [
       "<Figure size 1200x600 with 1 Axes>"
      ]
     },
     "metadata": {},
     "output_type": "display_data"
    }
   ],
   "source": [
    "df['Cluster'] = cluster_labels\n",
    "\n",
    "sns.set_style(\"whitegrid\")\n",
    "\n",
    "# Plot time series with coloring based on the 'factor' column using seaborn\n",
    "plt.figure(figsize=(12, 6))\n",
    "sns.scatterplot(x='Date', y='Price', hue='Cluster', data=df, palette='muted')\n",
    "plt.title('Time Series with Coloring of Factor Column (Seaborn)')\n",
    "plt.xlabel('Date')\n",
    "plt.ylabel('Value')\n",
    "plt.legend(title='Factor')\n",
    "plt.show()"
   ]
  },
  {
   "cell_type": "markdown",
   "id": "66868ddf",
   "metadata": {},
   "source": [
    "## Qualitative Conclusions:"
   ]
  },
  {
   "cell_type": "markdown",
   "id": "7aeadf92",
   "metadata": {},
   "source": [
    "There were sevelral critical periods in Turkish economy, namely global economic crisis - its beginning and the aftermath; period between 2018 and 2019 - economic crisis; economic instability in 2021-2022 due to Ukranian crisis and the most recent rise in short term interst rates as the govenment tries to fight the neverending inflation.\n",
    "\n",
    "Turkish economy is one of the most interesting relatively developed countries with massive market return volatility."
   ]
  },
  {
   "cell_type": "markdown",
   "id": "0c78c788",
   "metadata": {},
   "source": [
    "# Stage 2. IR Modelling - Turkey 3-month Bond Yield"
   ]
  },
  {
   "cell_type": "markdown",
   "id": "3b6422c7",
   "metadata": {},
   "source": [
    "#### Working with AR"
   ]
  },
  {
   "cell_type": "code",
   "execution_count": 7,
   "id": "2c6bfc93",
   "metadata": {},
   "outputs": [],
   "source": [
    "for i in range(1, 4):\n",
    "    df[f'Lag_{i}'] = df['Price'].shift(i)"
   ]
  },
  {
   "cell_type": "code",
   "execution_count": 8,
   "id": "bf9a9fdc",
   "metadata": {},
   "outputs": [],
   "source": [
    "train_size = int(0.8 * len(df))\n",
    "train_df = df[:train_size]\n",
    "test_df = df[train_size:]\n",
    "train_y = train_df['Price']\n",
    "test_y = test_df['Price']"
   ]
  },
  {
   "cell_type": "code",
   "execution_count": 9,
   "id": "f29b56d0",
   "metadata": {},
   "outputs": [
    {
     "data": {
      "image/png": "[encoded data removed]",
      "text/plain": [
       "<Figure size 640x480 with 1 Axes>"
      ]
     },
     "metadata": {},
     "output_type": "display_data"
    }
   ],
   "source": [
    "series = df['Price'] - df['Lag_1']\n",
    "plot_acf(series)\n",
    "plt.show()"
   ]
  },
  {
   "cell_type": "code",
   "execution_count": null,
   "id": "6152312e",
   "metadata": {},
   "outputs": [],
   "source": [
    "ar_model = AutoReg(train_y, lags=1)\n",
    "ar_results = ar_model.fit()\n",
    "\n",
    "  \n",
    "y_pred = ar_results.predict(start=len(train_df), end=len(train_df) + len(test_df) - 1, dynamic=False)\n",
    " \n",
    "# Calculate MAE and RMSE\n",
    "mae = mean_absolute_error(test_y, y_pred)\n",
    "rmse = np.sqrt(mean_squared_error(test_y, y_pred))\n",
    "print(f'Mean Absolute Error: {mae:.2f}')\n",
    "print(f'Root Mean Squared Error: {rmse:.2f}')"
   ]
  },
  {
   "cell_type": "code",
   "execution_count": null,
   "id": "ef0d418d",
   "metadata": {},
   "outputs": [],
   "source": [
    "# Visualize the results\n",
    "plt.figure(figsize=(12, 6))\n",
    "plt.plot(train_df.index,train_y, label='Past Rates')\n",
    "plt.plot(test_df.index,test_y, label='Actual Rates')\n",
    "plt.plot(test_df.index,y_pred, label='Predicted Rates', linestyle='--')\n",
    "plt.xlabel('Date')\n",
    "plt.ylabel('Rates')\n",
    "plt.legend()\n",
    "plt.title('Rates Prediction with AR')\n",
    "plt.show()"
   ]
  },
  {
   "cell_type": "code",
   "execution_count": null,
   "id": "481cad66",
   "metadata": {},
   "outputs": [],
   "source": [
    "lamb_test = (1- ar_results.params.iloc[1]) / (1/252)\n",
    "mu_test = ar_results.params.iloc[0]/(1- ar_results.params.iloc[1])"
   ]
  },
  {
   "cell_type": "code",
   "execution_count": null,
   "id": "c85a8f78",
   "metadata": {},
   "outputs": [],
   "source": [
    "forecast_steps = 365\n",
    " \n",
    "# Extend the predictions into the future for one year\n",
    "future_indices = range(len(test_df), len(test_df) + forecast_steps)\n",
    "future_predictions = ar_results.predict(start=len(train_df), end=len(train_df) + len(test_df) + forecast_steps - 1, dynamic=True)\n",
    " \n",
    "# Create date indices for the future predictions\n",
    "future_dates = pd.date_range(start=test_df['Date'].iloc[-1], periods=forecast_steps, freq='D')\n",
    " \n",
    "# Plot the actual data, existing predictions, and one year of future predictions\n",
    "plt.figure(figsize=(12, 6))\n",
    "plt.plot(test_df['Date'], test_y, label='Actual Rates')\n",
    "plt.plot(test_df['Date'], y_pred, label='Predicted Rates', linestyle='--')\n",
    "plt.plot(future_dates, future_predictions[-forecast_steps:], label='Future Predictions', linestyle='--', color='red')\n",
    "plt.xlabel('Date')\n",
    "plt.ylabel('Rates')\n",
    "plt.legend()\n",
    "plt.title('Rates Prediction with AR')\n",
    "plt.show()"
   ]
  },
  {
   "cell_type": "code",
   "execution_count": null,
   "id": "d9194321",
   "metadata": {},
   "outputs": [],
   "source": [
    "ar_results.params"
   ]
  },
  {
   "cell_type": "markdown",
   "id": "6507fd14",
   "metadata": {},
   "source": [
    "### Construction of Vasicek model"
   ]
  },
  {
   "cell_type": "code",
   "execution_count": null,
   "id": "6b6d40aa",
   "metadata": {},
   "outputs": [],
   "source": [
    "from scipy.optimize import fmin\n",
    "import matplotlib.markers as mk\n",
    "import matplotlib.ticker as mtick"
   ]
  },
  {
   "cell_type": "markdown",
   "id": "036f98d5",
   "metadata": {},
   "source": [
    "As the data we analyze is daily, the variable delta t is equal to 1 "
   ]
  },
  {
   "cell_type": "code",
   "execution_count": null,
   "id": "e7c80793",
   "metadata": {},
   "outputs": [],
   "source": [
    "lamb = (1- ar_results.params.iloc[1]) / (1/252)\n",
    "mu = ar_results.params.iloc[0]/(1- ar_results.params.iloc[1])"
   ]
  },
  {
   "cell_type": "markdown",
   "id": "d85ad1af",
   "metadata": {},
   "source": [
    "#### Collecting data on the yield curve from the webiste http://www.worldgovernmentbonds.com/country/turkey/"
   ]
  },
  {
   "cell_type": "code",
   "execution_count": null,
   "id": "3709c72a",
   "metadata": {},
   "outputs": [],
   "source": [
    "termstruc = pd.DataFrame()\n",
    "termstruc['Maturity'] = [3/12, 6/12, 9/12, 2, 3, 5, 10]\n",
    "termstruc['Yield'] = np.array([39.866, 39.068, 38.755, 43.675, 32.180, 32.365, 27.285])*0.01\n",
    "plt.plot(termstruc[\"Maturity\"], termstruc['Yield'])\n",
    "None"
   ]
  },
  {
   "cell_type": "markdown",
   "id": "90e5807e",
   "metadata": {},
   "source": [
    "#### Interpolating using NSS algorithm"
   ]
  },
  {
   "cell_type": "code",
   "execution_count": null,
   "id": "dec95909",
   "metadata": {},
   "outputs": [],
   "source": [
    "b = pd.DataFrame({\"Maturity\": np.arange(0,30.05,(1/252))})\n",
    "df = pd.merge(left = b, right = termstruc, how = \"left\", on = \"Maturity\")\n",
    "dd = df.copy()"
   ]
  },
  {
   "cell_type": "code",
   "execution_count": null,
   "id": "458bd086",
   "metadata": {},
   "outputs": [],
   "source": [
    "β0 = 0.01\n",
    "β1 = 0.01\n",
    "β2 = 0.01\n",
    "β3 = 0.01\n",
    "λ0 = 1.00\n",
    "λ1 = 1.00"
   ]
  },
  {
   "cell_type": "code",
   "execution_count": null,
   "id": "a18b3d3d",
   "metadata": {},
   "outputs": [],
   "source": [
    "df['NSS'] = (β0)+(β1*((1-np.exp(-df['Maturity']/λ0))/(df['Maturity']/λ0)))+(β2*((((1-np.exp(-df['Maturity']/λ0))/(df['Maturity']/λ0)))-(np.exp(-df['Maturity']/λ0))))+(β3*((((1-np.exp(-df['Maturity']/λ1))/(df['Maturity']/λ1)))-(np.exp(-df['Maturity']/λ1))))\n",
    "df['Residual'] =  (df['Yield'] - df['NSS'])**2"
   ]
  },
  {
   "cell_type": "code",
   "execution_count": null,
   "id": "4e452ce2",
   "metadata": {},
   "outputs": [],
   "source": [
    "def myval(c):\n",
    "    df = dd.copy()\n",
    "    df['NSS'] =(c[0])+(c[1]*((1-np.exp(-df['Maturity']/c[4]))/(df['Maturity']/c[4])))+(c[2]*((((1-np.exp(-df['Maturity']/c[4]))/(df['Maturity']/c[4])))-(np.exp(-df['Maturity']/c[4]))))+(c[3]*((((1-np.exp(-df['Maturity']/c[5]))/(df['Maturity']/c[5])))-(np.exp(-df['Maturity']/c[5]))))\n",
    "    df['Residual'] =  (df['Yield'] - df['NSS'])**2\n",
    "    val = np.sum(df['Residual'])\n",
    "    print(\"[β0, β1, β2, β3, λ0, λ1]=\",c,\", SUM:\", val)\n",
    "    return(val)\n",
    "\n",
    "c = fmin(myval, [0.01, 0.01, 0.01, 0.01, 1.00, 1.00])"
   ]
  },
  {
   "cell_type": "code",
   "execution_count": null,
   "id": "727d9640",
   "metadata": {},
   "outputs": [],
   "source": [
    "β0 = c[0]\n",
    "β1 = c[1]\n",
    "β2 = c[2]\n",
    "β3 = c[3]\n",
    "λ0 = c[4]\n",
    "λ1 = c[5]\n",
    "print(\"[β0, β1, β2, β3, λ0, λ1]=\", [c[0].round(2), c[1].round(2), c[2].round(2), c[3].round(2), c[4].round(2), c[5].round(2)])"
   ]
  },
  {
   "cell_type": "code",
   "execution_count": null,
   "id": "d9d0a996",
   "metadata": {},
   "outputs": [],
   "source": [
    "df = dd.copy()\n",
    "df['NSS'] =(β0)+(β1*((1-np.exp(-df['Maturity']/λ0))/(df['Maturity']/λ0)))+(β2*((((1-np.exp(-df['Maturity']/λ0))/(df['Maturity']/λ0)))-(np.exp(-df['Maturity']/λ0))))+(β3*((((1-np.exp(-df['Maturity']/λ1))/(df['Maturity']/λ1)))-(np.exp(-df['Maturity']/λ1))))\n",
    "fontsize=15\n",
    "plt.figure(figsize=(13,7))\n",
    "plt.scatter(df['Maturity'], df['NSS'], color=\"orange\", label=\"NSS\")\n",
    "plt.scatter(dd['Maturity'], dd['Yield'], marker=\"o\", c=\"blue\")\n",
    "plt.xlabel('Period',fontsize=fontsize)\n",
    "plt.ylabel('Interest',fontsize=fontsize)\n",
    "plt.title(\"Nelson-Siegel-Svensson Model - Fitted Yield Curve\",fontsize=fontsize)\n",
    "plt.grid()\n",
    "plt.show()"
   ]
  },
  {
   "cell_type": "markdown",
   "id": "5684b28a",
   "metadata": {},
   "source": [
    "#### Calculating discount factors"
   ]
  },
  {
   "cell_type": "code",
   "execution_count": null,
   "id": "5923575a",
   "metadata": {},
   "outputs": [],
   "source": [
    "df['Discount'] = np.exp(-df['NSS'] * df['Maturity'])\n",
    "plt.plot(df[\"Maturity\"], df['Discount'])\n",
    "None"
   ]
  },
  {
   "cell_type": "markdown",
   "id": "3a4cac41",
   "metadata": {},
   "source": [
    "#### Calculating instantenious forward rates"
   ]
  },
  {
   "cell_type": "code",
   "execution_count": null,
   "id": "0de78ccc",
   "metadata": {},
   "outputs": [],
   "source": [
    "df['Forward'] = -(1/(1/252)) * np.log(df['Discount'].shift(-1)/df['Discount'])"
   ]
  },
  {
   "cell_type": "code",
   "execution_count": null,
   "id": "bd12c37f",
   "metadata": {},
   "outputs": [],
   "source": [
    "plt.plot(df[\"Maturity\"], df['Forward'])\n",
    "plt.plot(df[\"Maturity\"], df['NSS'])\n",
    "None"
   ]
  },
  {
   "cell_type": "code",
   "execution_count": null,
   "id": "a3020157",
   "metadata": {},
   "outputs": [],
   "source": [
    "df['Forward Derivative'] = (df['Forward'].shift(-1) - df['Forward'])/(1/252)\n",
    "\n",
    "df_old = pd.read_csv(\"turk3myield.csv\")\n",
    "df_old[\"Date\"] =pd.to_datetime(df_old [\"Date\"])\n",
    "df_old = df_old.sort_values(by='Date')\n",
    "df_old = df_old.reset_index()\n",
    "\n",
    "### Calculating necessary variables to simulate Vasicek\n",
    "\n",
    "#sigma on full sample, as well as parameters for the model that predicts 365 in the future (using full sample)\n",
    "sigma = np.std(df_old[\"Price\"] * 0.01) * np.sqrt(252)\n",
    "kappa = lamb\n",
    "theta = lamb * mu"
   ]
  },
  {
   "cell_type": "markdown",
   "id": "f1ff57ce",
   "metadata": {},
   "source": [
    "Hull-White:\n",
    "\n",
    "$$\n",
    "\\mathrm{d}r(t) = (\\theta(t)-\\kappa r(t))\\mathrm{d}t+\\sigma\\mathrm{d}W(t)\n",
    "$$\n",
    "\n",
    "Vasicek:\n",
    "\n",
    "$$\n",
    "\\mathrm{d}r(t) = (\\theta-\\kappa r(t))\\mathrm{d}t+\\sigma\\mathrm{d}W(t)\n",
    "$$"
   ]
  },
  {
   "cell_type": "markdown",
   "id": "35dbbaff",
   "metadata": {},
   "source": [
    "### Calculating theta for the Hull-White Simulations"
   ]
  },
  {
   "cell_type": "markdown",
   "id": "3ac743c1",
   "metadata": {},
   "source": [
    "#### 1. For the future forecast (from the current day)"
   ]
  },
  {
   "cell_type": "code",
   "execution_count": null,
   "id": "45cbb118",
   "metadata": {},
   "outputs": [],
   "source": [
    "df['Theta'] = df['Forward Derivative'] + kappa * df['Forward'] + (sigma**2 / (2*kappa))*(1 - np.exp(-2*kappa * df[\"Maturity\"]))\n",
    "df['Theta']  = df['Theta'].interpolate(method='linear', limit_direction='both')"
   ]
  },
  {
   "cell_type": "markdown",
   "id": "417689bd",
   "metadata": {},
   "source": [
    "#### 2. For the in-sample simulations - we have to find the yield curve for the January of 2021"
   ]
  },
  {
   "cell_type": "markdown",
   "id": "225eb6a3",
   "metadata": {},
   "source": [
    "How can we do it? Simply find historical yields (closing) on Turkish treasutries (3,6,9-month, 2,3,5,10-year) at time 1st of January 2021 from the investing.com"
   ]
  },
  {
   "cell_type": "code",
   "execution_count": null,
   "id": "7607ff38",
   "metadata": {},
   "outputs": [],
   "source": [
    "termstruc = pd.DataFrame()\n",
    "termstruc['Maturity'] = [3/12, 6/12, 9/12, 2, 3, 5, 10]\n",
    "termstruc['Yield'] = np.array([14.227, 14.766, 15.289, 14.25, 13.64, 12.93, 12.57])*0.01\n",
    "\n",
    "β0 = 0.01\n",
    "β1 = 0.01\n",
    "β2 = 0.01\n",
    "β3 = 0.01\n",
    "λ0 = 1.00\n",
    "λ1 = 1.00\n",
    "\n",
    "b = pd.DataFrame({\"Maturity\": np.arange(0,10.05,(1/252))})\n",
    "df1 = pd.merge(left = b, right = termstruc, how = \"left\", on = \"Maturity\")\n",
    "dd = df1.copy()\n",
    "df1['NSS'] = (β0)+(β1*((1-np.exp(-df['Maturity']/λ0))/(df['Maturity']/λ0)))+(β2*((((1-np.exp(-df1['Maturity']/λ0))/(df1['Maturity']/λ0)))-(np.exp(-df1['Maturity']/λ0))))+(β3*((((1-np.exp(-df1['Maturity']/λ1))/(df1['Maturity']/λ1)))-(np.exp(-df1['Maturity']/λ1))))\n",
    "df1['Residual'] =  (df1['Yield'] - df1['NSS'])**2"
   ]
  },
  {
   "cell_type": "code",
   "execution_count": null,
   "id": "c852375f",
   "metadata": {},
   "outputs": [],
   "source": [
    "def myval(c):\n",
    "    df1 = dd.copy()\n",
    "    df1['NSS'] =(c[0])+(c[1]*((1-np.exp(-df1['Maturity']/c[4]))/(df1['Maturity']/c[4])))+(c[2]*((((1-np.exp(-df1['Maturity']/c[4]))/(df1['Maturity']/c[4])))-(np.exp(-df1['Maturity']/c[4]))))+(c[3]*((((1-np.exp(-df1['Maturity']/c[5]))/(df1['Maturity']/c[5])))-(np.exp(-df1['Maturity']/c[5]))))\n",
    "    df1['Residual'] =  (df1['Yield'] - df1['NSS'])**2\n",
    "    val = np.sum(df1['Residual'])\n",
    "    print(\"[β0, β1, β2, β3, λ0, λ1]=\",c,\", SUM:\", val)\n",
    "    return(val)\n",
    "\n",
    "c = fmin(myval, [0.1, 0.1, 0.1, 0.1, 1.00, 1.00])"
   ]
  },
  {
   "cell_type": "code",
   "execution_count": null,
   "id": "31712ffa",
   "metadata": {},
   "outputs": [],
   "source": [
    "df1 = dd.copy()\n",
    "β0 = c[0]\n",
    "β1 = c[1]\n",
    "β2 = c[2]\n",
    "β3 = c[3]\n",
    "λ0 = c[4]\n",
    "λ1 = c[5]\n",
    "\n",
    "df1['NSS'] =(β0)+(β1*((1-np.exp(-df1['Maturity']/λ0))/(df1['Maturity']/λ0)))+(β2*((((1-np.exp(-df1['Maturity']/λ0))/(df1['Maturity']/λ0)))-(np.exp(-df1['Maturity']/λ0))))+(β3*((((1-np.exp(-df1['Maturity']/λ1))/(df1['Maturity']/λ1)))-(np.exp(-df1['Maturity']/λ1))))\n",
    "fontsize=15\n",
    "plt.figure(figsize=(13,7))\n",
    "plt.scatter(df1['Maturity'], df1['NSS'], color=\"orange\", label=\"NSS\")\n",
    "plt.scatter(dd['Maturity'], dd['Yield'], marker=\"o\", c=\"blue\")\n",
    "plt.xlabel('Period',fontsize=fontsize)\n",
    "plt.ylabel('Interest',fontsize=fontsize)\n",
    "plt.title(\"Nelson-Siegel-Svensson Model - Fitted Yield Curve\",fontsize=fontsize)\n",
    "plt.grid()\n",
    "plt.show()"
   ]
  },
  {
   "cell_type": "code",
   "execution_count": null,
   "id": "87f1072c",
   "metadata": {},
   "outputs": [],
   "source": [
    "df1['Discount'] = np.exp(-df1['NSS'] * df1['Maturity'])\n",
    "df1['Forward'] = -(1/(1/252)) * np.log(df1['Discount'].shift(-1)/df1['Discount'])"
   ]
  },
  {
   "cell_type": "code",
   "execution_count": null,
   "id": "d798f075",
   "metadata": {},
   "outputs": [],
   "source": [
    "### Plotting forward and spot rates\n",
    "plt.plot(df1[\"Maturity\"], df1['Forward'])\n",
    "plt.plot(df1[\"Maturity\"], df1['NSS'])\n",
    "None"
   ]
  },
  {
   "cell_type": "code",
   "execution_count": null,
   "id": "0165633f",
   "metadata": {},
   "outputs": [],
   "source": [
    "df1['Forward Derivative'] = (df1['Forward'].shift(-1) - df1['Forward'])/(1/252)\n",
    "kappa = lamb_test\n",
    "### sigma on train\n",
    "sigma = np.std(df_old[\"Price\"].iloc[:4000] * 0.01) * np.sqrt(252)\n",
    "df1['Theta'] = df1['Forward Derivative'] + kappa * df1['Forward'] + (sigma**2 / (2*kappa))*(1 - np.exp(-2*kappa * df1[\"Maturity\"]))\n",
    "df1['Theta']  = df1['Theta'].interpolate(method='linear', limit_direction='both')"
   ]
  },
  {
   "cell_type": "markdown",
   "id": "75682bc3",
   "metadata": {},
   "source": [
    "## Vasicek Simulation (Backtest)\n",
    "\n",
    "### We simulate in 1000 observations in the past. Namely, from the beginning of 2021 to the beginning of 2024"
   ]
  },
  {
   "cell_type": "code",
   "execution_count": null,
   "id": "6e56ade4",
   "metadata": {},
   "outputs": [],
   "source": [
    "def vasicek(r0, kappa, theta, sigma, T, dt, n_paths):\n",
    "    \"\"\"\n",
    "    Simulate interest rates using the Vasicek model.\n",
    "\n",
    "    Parameters:\n",
    "        r0 (float): Initial interest rate.\n",
    "        kappa (float): Mean-reversion rate.\n",
    "        theta (float): Long-term mean of the interest rate.\n",
    "        sigma (float): Volatility of the interest rate.\n",
    "        T (float): Time horizon.\n",
    "        dt (float): Time step size.\n",
    "        n_paths (int): Number of simulation paths.\n",
    "\n",
    "    Returns:\n",
    "        numpy.ndarray: Simulated interest rate paths.\n",
    "    \"\"\"\n",
    "    np.random.seed(1337)\n",
    "    n_steps = int(T / dt)\n",
    "    rates = np.zeros((n_paths, n_steps))\n",
    "    rates[:, 0] = r0\n",
    "\n",
    "    for i in range(1, n_steps):\n",
    "        dW = np.random.normal(0, np.sqrt(dt), size=n_paths)\n",
    "        rates[:, i] = rates[:, i - 1] + kappa * (theta -  rates[:, i - 1]) * dt + sigma * np.sqrt(dt) * dW\n",
    "\n",
    "    return rates"
   ]
  },
  {
   "cell_type": "code",
   "execution_count": null,
   "id": "3b1be3c7",
   "metadata": {},
   "outputs": [],
   "source": [
    "train_size = int(0.8 * len(df_old))\n",
    "train_df = df_old[:train_size]\n",
    "test_df = df_old[train_size:]\n",
    "train_y = train_df['Price'] * 0.01\n",
    "test_y = test_df['Price'] * 0.01"
   ]
  },
  {
   "cell_type": "code",
   "execution_count": null,
   "id": "6fd484ff",
   "metadata": {},
   "outputs": [],
   "source": [
    "lamb_test"
   ]
  },
  {
   "cell_type": "code",
   "execution_count": null,
   "id": "9488ab2c",
   "metadata": {},
   "outputs": [],
   "source": [
    "# Parameters\n",
    "r0 = train_y.iloc[-1]  # Initial interest rate\n",
    "kappa = lamb  # Mean-reversion rate\n",
    "theta = lamb * mu  # Long-term mean of the interest rate\n",
    "sigma = np.std(df_old[\"Price\"].iloc[:4000] * 0.01) * np.sqrt(252)  # Volatility of the interest rate\n",
    "T = 50  # Time horizon\n",
    "dt = 0.05 # Time step size (daily steps)\n",
    "n_paths = 10  # Number of simulation paths\n",
    "\n",
    "# Simulate interest rates\n",
    "interest_rates = vasicek(r0, lamb_test, mu_test, sigma, T, dt, n_paths)\n",
    "\n",
    "# Plot simulation results\n",
    "plt.figure(figsize=(10, 6))\n",
    "#plt.plot(train_df.index,train_y, label='Past Rates')\n",
    "plt.plot(test_df.index,test_y, label='Actual Rates')\n",
    "plt.plot(test_df.index, interest_rates.T, linestyle='--', alpha = 0.4)\n",
    "plt.title('Simulated Vasicek Interest Rate Paths, Test Sample')\n",
    "plt.xlabel('Time')\n",
    "plt.ylabel('Interest Rate')\n",
    "plt.grid(True)\n",
    "plt.show()"
   ]
  },
  {
   "cell_type": "markdown",
   "id": "0c04da41",
   "metadata": {},
   "source": [
    "### Calculating RMSE on test sample"
   ]
  },
  {
   "cell_type": "code",
   "execution_count": null,
   "id": "b24aa91e",
   "metadata": {},
   "outputs": [],
   "source": [
    "squared_diff = (np.tile(test_y, (10, 1)) - interest_rates)**2\n",
    "mean_squared_diff = np.mean(squared_diff, axis=0)\n",
    "rmse = np.sqrt(mean_squared_diff)\n",
    "plt.hist(rmse)\n",
    "None"
   ]
  },
  {
   "cell_type": "code",
   "execution_count": null,
   "id": "db7e7cc9",
   "metadata": {},
   "outputs": [],
   "source": [
    "np.mean(rmse)"
   ]
  },
  {
   "cell_type": "markdown",
   "id": "35f8a64f",
   "metadata": {},
   "source": [
    "## Hull-White Simulation (Backtest)\n",
    "\n",
    "### We simulate in 1000 observations in the past. Namely, from the beginning of 2021 to the beginning of 2024"
   ]
  },
  {
   "cell_type": "code",
   "execution_count": null,
   "id": "68143799",
   "metadata": {},
   "outputs": [],
   "source": [
    "def hullwhite(r0, kappa, theta, sigma, T, dt, n_paths):\n",
    "    \"\"\"\n",
    "    Simulate interest rates using the Vasicek model.\n",
    "\n",
    "    Parameters:\n",
    "        r0 (float): Initial interest rate.\n",
    "        kappa (float): Mean-reversion rate.\n",
    "        theta (array): Long-term mean of the interest rate.\n",
    "        sigma (float): Volatility of the interest rate.\n",
    "        T (float): Time horizon.\n",
    "        dt (float): Time step size.\n",
    "        n_paths (int): Number of simulation paths.\n",
    "\n",
    "    Returns:\n",
    "        numpy.ndarray: Simulated interest rate paths.\n",
    "    \"\"\"\n",
    "    np.random.seed(1337)\n",
    "    n_steps = int(T / dt)\n",
    "    rates = np.zeros((n_paths, n_steps))\n",
    "    rates[:, 0] = r0\n",
    "\n",
    "    for i in range(1, n_steps):\n",
    "        dW = np.random.normal(0, np.sqrt(dt), size=n_paths)\n",
    "        rates[:, i] = rates[:, i - 1] + (theta[i-1] - kappa * rates[:, i - 1]) * dt + sigma * np.sqrt(dt) * dW\n",
    "\n",
    "    return rates"
   ]
  },
  {
   "cell_type": "code",
   "execution_count": null,
   "id": "2bb55724",
   "metadata": {},
   "outputs": [],
   "source": [
    "# Parameters\n",
    "r0 = train_y.iloc[-1]  # Initial interest rate\n",
    "kappa = lamb_test  # Mean-reversion rate\n",
    "theta_array = df1['Theta'].values  # Example array for theta\n",
    "sigma = np.std(df_old[\"Price\"].iloc[:4000] * 0.01) * np.sqrt(252) # Volatility of the interest rate\n",
    "T = 50  # Time at which to simulate the interest rate\n",
    "dt = 0.05  # Time step size\n",
    "n_paths = 10\n",
    "# Simulate interest rate\n",
    "interest_rate = hullwhite(r0, kappa, theta_array, sigma, T, dt, n_paths)\n",
    "\n",
    "# Plot simulation results\n",
    "plt.figure(figsize=(10, 6))\n",
    "#plt.plot(train_df.index,train_y, label='Past Rates')\n",
    "plt.plot(test_df.index,test_y, label='Actual Rates')\n",
    "plt.plot(test_df.index, interest_rate.T, linestyle='--', alpha = 0.4)\n",
    "plt.title('Simulated Hull-White Interest Rate Paths, Test Sample')\n",
    "plt.xlabel('Time')\n",
    "plt.ylabel('Interest Rate')\n",
    "plt.grid(True)\n",
    "plt.show()"
   ]
  },
  {
   "cell_type": "code",
   "execution_count": null,
   "id": "5ab75864",
   "metadata": {},
   "outputs": [],
   "source": [
    "squared_diff = (np.tile(test_y, (10, 1)) - interest_rate)**2\n",
    "mean_squared_diff = np.mean(squared_diff, axis=0)\n",
    "rmse = np.sqrt(mean_squared_diff)\n",
    "plt.hist(rmse)\n",
    "None"
   ]
  },
  {
   "cell_type": "code",
   "execution_count": null,
   "id": "55c9b836",
   "metadata": {},
   "outputs": [],
   "source": [
    "np.mean(rmse)"
   ]
  },
  {
   "cell_type": "markdown",
   "id": "0e06fcab",
   "metadata": {},
   "source": [
    "# Out-of sample simulations for both models"
   ]
  },
  {
   "cell_type": "code",
   "execution_count": null,
   "id": "ed0a0a09",
   "metadata": {},
   "outputs": [],
   "source": [
    "r0 = test_y.iloc[-1]\n",
    "kappa = lamb\n",
    "theta = mu\n",
    "theta_array = df['Theta'].values\n",
    "sigma = np.std(df_old[\"Price\"] * 0.01) * np.sqrt(252)\n",
    "T = 1\n",
    "dt = 1/252\n",
    "n_paths = 5\n",
    "\n",
    "forecast_steps = 252\n",
    "future_indices = range(len(test_df), len(test_df) + forecast_steps)\n",
    "future_predictions = ar_results.predict(start=len(train_df), end=len(train_df) + len(test_df) + forecast_steps - 1, dynamic=True)\n",
    "future_dates = pd.date_range(start=test_df['Date'].iloc[-1], periods=forecast_steps, freq='D')\n",
    "\n",
    "interest_rate = hullwhite(r0, kappa, theta_array, sigma, T, dt, n_paths)\n",
    "interest_rates = vasicek(r0, kappa, theta, sigma, T, dt, n_paths)\n",
    "\n",
    "plt.figure(figsize=(12, 6))\n",
    "plt.plot(train_df['Date'],train_y, label='Past Rates', color = \"blue\")\n",
    "plt.plot(test_df['Date'],test_y, label='Actual Rates', color = \"green\")\n",
    "plt.plot(future_dates, interest_rate.T, linestyle='--', alpha = 0.4, color = \"red\", label = \"Hull-White\")\n",
    "plt.plot(future_dates, interest_rates.T, linestyle='--', alpha = 0.4, color = \"orange\", label = \"Vasicek\")\n",
    "plt.xlabel('Date')\n",
    "plt.ylabel('Rates')\n",
    "plt.legend()\n",
    "plt.title('Rates Prediction with stochastic models')\n",
    "plt.show()"
   ]
  },
  {
   "cell_type": "markdown",
   "id": "5964f088",
   "metadata": {},
   "source": [
    "# Stage 3. IR Modelling - Turkey 3-month Bond Yield"
   ]
  },
  {
   "cell_type": "markdown",
   "id": "0a89765b",
   "metadata": {},
   "source": [
    "As the Vasicek model gave the best RMSE on the test sample, it is safe to assume that the forecast using this model will be the most reliable out of all the options: AR, Hull-White, Vasicek. \n",
    "\n",
    "As the model implies mean-reversion and current interest rates are unreasonably high, it is expected that contractionary monetary policy will take place or simply the uncertainty in the economy will decrease. "
   ]
  },
  {
   "cell_type": "code",
   "execution_count": null,
   "id": "cdc9c389",
   "metadata": {},
   "outputs": [],
   "source": [
    "plt.plot(df[\"Maturity\"], df['Forward'])\n",
    "plt.plot(df[\"Maturity\"], df['NSS'])\n",
    "None"
   ]
  },
  {
   "cell_type": "markdown",
   "id": "78e82982",
   "metadata": {},
   "source": [
    "Currently the yield curve is significantly inverse and in addition forward rates are even lower (due to negative slope of the yield curve - derived from the formula)"
   ]
  }
 ],
 "metadata": {
  "kernelspec": {
   "display_name": "Python 3 (ipykernel)",
   "language": "python",
   "name": "python3"
  },
  "language_info": {
   "codemirror_mode": {
    "name": "ipython",
    "version": 3
   },
   "file_extension": ".py",
   "mimetype": "text/x-python",
   "name": "python",
   "nbconvert_exporter": "python",
   "pygments_lexer": "ipython3",
   "version": "3.9.18"
  }
 },
 "nbformat": 4,
 "nbformat_minor": 5
}
